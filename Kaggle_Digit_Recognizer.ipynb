{
  "nbformat": 4,
  "nbformat_minor": 0,
  "metadata": {
    "colab": {
      "name": "Kaggle_Digit_Recognizer.ipynb",
      "provenance": [],
      "collapsed_sections": []
    },
    "kernelspec": {
      "name": "python3",
      "display_name": "Python 3"
    },
    "accelerator": "GPU"
  },
  "cells": [
    {
      "cell_type": "code",
      "metadata": {
        "id": "KMq0xapUmJq5",
        "outputId": "586991b9-7a04-4c1b-b530-1267540d4adc",
        "colab": {
          "base_uri": "https://localhost:8080/"
        }
      },
      "source": [
        "#Import tensorflow and checking the versions\n",
        "import tensorflow as tf\n",
        "print(tf.__version__)"
      ],
      "execution_count": null,
      "outputs": [
        {
          "output_type": "stream",
          "name": "stdout",
          "text": [
            "2.8.2\n"
          ]
        }
      ]
    },
    {
      "cell_type": "code",
      "source": [
        "!nvidia-smi"
      ],
      "metadata": {
        "colab": {
          "base_uri": "https://localhost:8080/"
        },
        "id": "iyMDxFYMs5mJ",
        "outputId": "226454d9-da31-4d45-af51-87dd04b1406a"
      },
      "execution_count": null,
      "outputs": [
        {
          "output_type": "stream",
          "name": "stdout",
          "text": [
            "Sun Jul 10 05:21:42 2022       \n",
            "+-----------------------------------------------------------------------------+\n",
            "| NVIDIA-SMI 460.32.03    Driver Version: 460.32.03    CUDA Version: 11.2     |\n",
            "|-------------------------------+----------------------+----------------------+\n",
            "| GPU  Name        Persistence-M| Bus-Id        Disp.A | Volatile Uncorr. ECC |\n",
            "| Fan  Temp  Perf  Pwr:Usage/Cap|         Memory-Usage | GPU-Util  Compute M. |\n",
            "|                               |                      |               MIG M. |\n",
            "|===============================+======================+======================|\n",
            "|   0  Tesla T4            Off  | 00000000:00:04.0 Off |                    0 |\n",
            "| N/A   70C    P0    32W /  70W |  11548MiB / 15109MiB |      0%      Default |\n",
            "|                               |                      |                  N/A |\n",
            "+-------------------------------+----------------------+----------------------+\n",
            "                                                                               \n",
            "+-----------------------------------------------------------------------------+\n",
            "| Processes:                                                                  |\n",
            "|  GPU   GI   CI        PID   Type   Process name                  GPU Memory |\n",
            "|        ID   ID                                                   Usage      |\n",
            "|=============================================================================|\n",
            "+-----------------------------------------------------------------------------+\n"
          ]
        }
      ]
    },
    {
      "cell_type": "markdown",
      "metadata": {
        "id": "AQNBoi9W2XNh"
      },
      "source": [
        "##Extracting the Dataset"
      ]
    },
    {
      "cell_type": "code",
      "metadata": {
        "id": "c9YEQhmwuqkU"
      },
      "source": [
        "!unzip 'train.csv.zip'\n",
        "!unzip 'test.csv.zip'"
      ],
      "execution_count": null,
      "outputs": []
    },
    {
      "cell_type": "code",
      "metadata": {
        "id": "NFSZLX5FvDSL"
      },
      "source": [
        "!rm -rf test.csv.zip\n",
        "!rm -rf train.csv.zip"
      ],
      "execution_count": null,
      "outputs": []
    },
    {
      "cell_type": "markdown",
      "metadata": {
        "id": "HaChCxHF3OEi"
      },
      "source": [
        "##Importing important packages"
      ]
    },
    {
      "cell_type": "code",
      "metadata": {
        "id": "i65U7brP2wdj",
        "outputId": "5987e0a4-af39-4194-c69b-e7f371b60ebd",
        "colab": {
          "base_uri": "https://localhost:8080/"
        }
      },
      "source": [
        "import numpy as np\n",
        "import pandas as pd\n",
        "import matplotlib.pyplot as plt\n",
        "%matplotlib inline\n",
        "import seaborn as sns\n",
        "import tensorflow as tf\n",
        "# Input data files are available in the \"../input/\" directory.\n",
        "from subprocess import check_output\n",
        "print(check_output([\"ls\", \"../content\"]).decode(\"utf8\"))"
      ],
      "execution_count": null,
      "outputs": [
        {
          "output_type": "stream",
          "name": "stdout",
          "text": [
            "sample_data\n",
            "test.csv\n",
            "train.csv\n",
            "\n"
          ]
        }
      ]
    },
    {
      "cell_type": "markdown",
      "metadata": {
        "id": "wXPgndA57Hkf"
      },
      "source": [
        "#Read and Reshape the dataset"
      ]
    },
    {
      "cell_type": "code",
      "metadata": {
        "id": "McCRn1ux4Z7J"
      },
      "source": [
        "# Read training and test data files\n",
        "train = pd.read_csv(\"train.csv\")\n",
        "test  = pd.read_csv(\"test.csv\")"
      ],
      "execution_count": null,
      "outputs": []
    },
    {
      "cell_type": "code",
      "metadata": {
        "id": "Ey0m1gJF45pP",
        "outputId": "ed836230-b4b2-4a13-9190-d00bdc5f5fc1",
        "colab": {
          "base_uri": "https://localhost:8080/"
        }
      },
      "source": [
        "print(train.shape)\n",
        "print(test.shape)"
      ],
      "execution_count": null,
      "outputs": [
        {
          "output_type": "stream",
          "name": "stdout",
          "text": [
            "(42000, 785)\n",
            "(28000, 784)\n"
          ]
        }
      ]
    },
    {
      "cell_type": "code",
      "metadata": {
        "id": "FGq9MTfb5JIv",
        "outputId": "e54ece9e-d291-495f-84bb-a92a88e37d3d",
        "colab": {
          "base_uri": "https://localhost:8080/"
        }
      },
      "source": [
        "train_y = train['label'].astype('float32')\n",
        "train_x = train.drop(['label'],axis = 1).astype('int32')\n",
        "test_x = test.astype('float32')\n",
        "train_x.shape, train_y.shape, test_x.shape"
      ],
      "execution_count": null,
      "outputs": [
        {
          "output_type": "execute_result",
          "data": {
            "text/plain": [
              "((42000, 784), (42000,), (28000, 784))"
            ]
          },
          "metadata": {},
          "execution_count": 5
        }
      ]
    },
    {
      "cell_type": "code",
      "metadata": {
        "id": "vieuuXAv5oL-",
        "outputId": "46bb0a20-a0c0-411e-ec5d-2f76270a4fa5",
        "colab": {
          "base_uri": "https://localhost:8080/"
        }
      },
      "source": [
        "train_x = train_x.values.reshape(-1,28,28,1)\n",
        "train_x = train_x / 255.0\n",
        "test_x = test_x.values.reshape(-1,28,28,1)\n",
        "test_x = test_x / 255.0\n",
        "train_x.shape, test_x.shape"
      ],
      "execution_count": null,
      "outputs": [
        {
          "output_type": "execute_result",
          "data": {
            "text/plain": [
              "((42000, 28, 28, 1), (28000, 28, 28, 1))"
            ]
          },
          "metadata": {},
          "execution_count": 6
        }
      ]
    },
    {
      "cell_type": "code",
      "source": [
        "train_x = np.concatenate((train_x, train_x.reshape(-1, 28,28, 1)))\n",
        "train_y = np.concatenate((train_y, train_y))"
      ],
      "metadata": {
        "id": "9ev60priyjaW"
      },
      "execution_count": null,
      "outputs": []
    },
    {
      "cell_type": "code",
      "metadata": {
        "id": "J3QVEI_A15AJ",
        "outputId": "fdded4e2-9ec4-43d5-96be-9ac8611e5a00",
        "colab": {
          "base_uri": "https://localhost:8080/"
        }
      },
      "source": [
        "#One Hot Encoding\n",
        "train_y = tf.keras.utils.to_categorical(train_y,10)\n",
        "train_y.shape"
      ],
      "execution_count": null,
      "outputs": [
        {
          "output_type": "execute_result",
          "data": {
            "text/plain": [
              "(84000, 10)"
            ]
          },
          "metadata": {},
          "execution_count": 17
        }
      ]
    },
    {
      "cell_type": "code",
      "metadata": {
        "id": "5fgocmMc2aIJ"
      },
      "source": [
        "#Printing original labels of top 5 rows\n",
        "print(train['label'])"
      ],
      "execution_count": null,
      "outputs": []
    },
    {
      "cell_type": "code",
      "metadata": {
        "id": "_7RmKKzk2maI"
      },
      "source": [
        "#One hot encoding of the same labels\n",
        "print(train_y[,:])"
      ],
      "execution_count": null,
      "outputs": []
    },
    {
      "cell_type": "code",
      "metadata": {
        "id": "9PoS4D1d-xao",
        "outputId": "fe573b86-16f3-4f00-bb32-8aa4d3ebb799",
        "colab": {
          "base_uri": "https://localhost:8080/"
        }
      },
      "source": [
        "#Defining the model\n",
        "model = tf.keras.models.Sequential([\n",
        "  tf.keras.layers.Conv2D(32,(3,3),activation = 'relu', input_shape=(28,28,1)),\n",
        "  tf.keras.layers.BatchNormalization(),\n",
        "  tf.keras.layers.Conv2D(32,(3,3),activation = 'relu'),\n",
        "  tf.keras.layers.BatchNormalization(),\n",
        "  tf.keras.layers.MaxPooling2D(2,2),\n",
        "  tf.keras.layers.Conv2D(64,(3,3),activation = 'relu',padding = 'Same'),\n",
        "  tf.keras.layers.BatchNormalization(),\n",
        "  tf.keras.layers.Conv2D(64,(3,3),activation = 'relu',padding = 'Same'),\n",
        "  tf.keras.layers.BatchNormalization(),\n",
        "  tf.keras.layers.MaxPooling2D(pool_size = (2,2), strides = (2,2)),\n",
        "  tf.keras.layers.Dropout(0.25),\n",
        "  tf.keras.layers.Conv2D(64,(3,3),activation = 'relu',padding = 'Same'),\n",
        "  tf.keras.layers.BatchNormalization(),\n",
        "  tf.keras.layers.Conv2D(64,(3,3),activation = 'relu',padding = 'Same'),\n",
        "  tf.keras.layers.BatchNormalization(),\n",
        "  tf.keras.layers.MaxPooling2D(pool_size = (2,2), strides = (2,2)),\n",
        "  tf.keras.layers.Dropout(0.25),\n",
        "  tf.keras.layers.Flatten(),\n",
        "  tf.keras.layers.Dense(256, activation='relu'),\n",
        "  tf.keras.layers.Dropout(0.50),\n",
        "  tf.keras.layers.Dense(256, activation='relu'),\n",
        "  tf.keras.layers.Dropout(0.50),\n",
        "  tf.keras.layers.Dense(10, activation='softmax')\n",
        "])\n",
        "model.summary()"
      ],
      "execution_count": null,
      "outputs": [
        {
          "output_type": "stream",
          "name": "stdout",
          "text": [
            "Model: \"sequential\"\n",
            "_________________________________________________________________\n",
            " Layer (type)                Output Shape              Param #   \n",
            "=================================================================\n",
            " conv2d (Conv2D)             (None, 26, 26, 32)        320       \n",
            "                                                                 \n",
            " batch_normalization (BatchN  (None, 26, 26, 32)       128       \n",
            " ormalization)                                                   \n",
            "                                                                 \n",
            " conv2d_1 (Conv2D)           (None, 24, 24, 32)        9248      \n",
            "                                                                 \n",
            " batch_normalization_1 (Batc  (None, 24, 24, 32)       128       \n",
            " hNormalization)                                                 \n",
            "                                                                 \n",
            " max_pooling2d (MaxPooling2D  (None, 12, 12, 32)       0         \n",
            " )                                                               \n",
            "                                                                 \n",
            " conv2d_2 (Conv2D)           (None, 12, 12, 64)        18496     \n",
            "                                                                 \n",
            " batch_normalization_2 (Batc  (None, 12, 12, 64)       256       \n",
            " hNormalization)                                                 \n",
            "                                                                 \n",
            " conv2d_3 (Conv2D)           (None, 12, 12, 64)        36928     \n",
            "                                                                 \n",
            " batch_normalization_3 (Batc  (None, 12, 12, 64)       256       \n",
            " hNormalization)                                                 \n",
            "                                                                 \n",
            " max_pooling2d_1 (MaxPooling  (None, 6, 6, 64)         0         \n",
            " 2D)                                                             \n",
            "                                                                 \n",
            " dropout (Dropout)           (None, 6, 6, 64)          0         \n",
            "                                                                 \n",
            " conv2d_4 (Conv2D)           (None, 6, 6, 64)          36928     \n",
            "                                                                 \n",
            " batch_normalization_4 (Batc  (None, 6, 6, 64)         256       \n",
            " hNormalization)                                                 \n",
            "                                                                 \n",
            " conv2d_5 (Conv2D)           (None, 6, 6, 64)          36928     \n",
            "                                                                 \n",
            " batch_normalization_5 (Batc  (None, 6, 6, 64)         256       \n",
            " hNormalization)                                                 \n",
            "                                                                 \n",
            " max_pooling2d_2 (MaxPooling  (None, 3, 3, 64)         0         \n",
            " 2D)                                                             \n",
            "                                                                 \n",
            " dropout_1 (Dropout)         (None, 3, 3, 64)          0         \n",
            "                                                                 \n",
            " flatten (Flatten)           (None, 576)               0         \n",
            "                                                                 \n",
            " dense (Dense)               (None, 256)               147712    \n",
            "                                                                 \n",
            " dense_1 (Dense)             (None, 256)               65792     \n",
            "                                                                 \n",
            " dropout_2 (Dropout)         (None, 256)               0         \n",
            "                                                                 \n",
            " dense_2 (Dense)             (None, 10)                2570      \n",
            "                                                                 \n",
            "=================================================================\n",
            "Total params: 356,202\n",
            "Trainable params: 355,562\n",
            "Non-trainable params: 640\n",
            "_________________________________________________________________\n"
          ]
        }
      ]
    },
    {
      "cell_type": "code",
      "metadata": {
        "id": "GqFkk1DruY8g"
      },
      "source": [
        "#Defining the callback function to stop our training once the acceptable accuracy is reached\n",
        "class myCallback(tf.keras.callbacks.Callback):\n",
        "        def on_epoch_end(self, epoch, logs={}):\n",
        "            if(logs.get('accuracy') > 0.9999):\n",
        "                print(\"\\nReached 99.9% accuracy so cancelling training!\")\n",
        "                self.model.stop_training = True\n",
        "    \n",
        "callbacks = myCallback()"
      ],
      "execution_count": null,
      "outputs": []
    },
    {
      "cell_type": "code",
      "source": [
        "train_x.shape"
      ],
      "metadata": {
        "colab": {
          "base_uri": "https://localhost:8080/"
        },
        "id": "CGnQH-pEzwvZ",
        "outputId": "9cf92672-0f7e-44db-c1af-c81eff24d075"
      },
      "execution_count": null,
      "outputs": [
        {
          "output_type": "execute_result",
          "data": {
            "text/plain": [
              "(84000, 28, 28, 1)"
            ]
          },
          "metadata": {},
          "execution_count": 11
        }
      ]
    },
    {
      "cell_type": "code",
      "metadata": {
        "id": "D2Dl0wA3QAUA",
        "outputId": "f05efdf8-5a6e-4c68-855a-9b652d44eb58",
        "colab": {
          "base_uri": "https://localhost:8080/"
        }
      },
      "source": [
        "#Compiling and model training with batch size = 50, epochs = 20, and optimizer = adam\n",
        "Optimizer = tf.keras.optimizers.Adam(\n",
        "            learning_rate=0.001, \n",
        "            beta_1=0.9, \n",
        "            beta_2=0.999, \n",
        "            epsilon=1.0,\n",
        "            name='Adam'\n",
        ")\n",
        "model.compile(optimizer=Optimizer, loss='categorical_crossentropy', metrics=['accuracy'])\n",
        "model.fit(train_x, train_y, batch_size = 48, epochs = 20, callbacks=[callbacks])"
      ],
      "execution_count": null,
      "outputs": [
        {
          "output_type": "stream",
          "name": "stdout",
          "text": [
            "Epoch 1/20\n",
            "1750/1750 [==============================] - 12s 6ms/step - loss: 0.0082 - accuracy: 0.9980\n",
            "Epoch 2/20\n",
            "1750/1750 [==============================] - 11s 6ms/step - loss: 0.0078 - accuracy: 0.9982\n",
            "Epoch 3/20\n",
            "1750/1750 [==============================] - 11s 6ms/step - loss: 0.0066 - accuracy: 0.9982\n",
            "Epoch 4/20\n",
            "1750/1750 [==============================] - 11s 6ms/step - loss: 0.0070 - accuracy: 0.9983\n",
            "Epoch 5/20\n",
            "1750/1750 [==============================] - 11s 6ms/step - loss: 0.0053 - accuracy: 0.9985\n",
            "Epoch 6/20\n",
            "1750/1750 [==============================] - 11s 6ms/step - loss: 0.0061 - accuracy: 0.9984\n",
            "Epoch 7/20\n",
            "1750/1750 [==============================] - 11s 6ms/step - loss: 0.0054 - accuracy: 0.9985\n",
            "Epoch 8/20\n",
            "1750/1750 [==============================] - 11s 6ms/step - loss: 0.0056 - accuracy: 0.9985\n",
            "Epoch 9/20\n",
            "1750/1750 [==============================] - 11s 6ms/step - loss: 0.0049 - accuracy: 0.9986\n",
            "Epoch 10/20\n",
            "1750/1750 [==============================] - 11s 6ms/step - loss: 0.0045 - accuracy: 0.9987\n",
            "Epoch 11/20\n",
            "1750/1750 [==============================] - 11s 6ms/step - loss: 0.0041 - accuracy: 0.9988\n",
            "Epoch 12/20\n",
            "1750/1750 [==============================] - 11s 6ms/step - loss: 0.0042 - accuracy: 0.9987\n",
            "Epoch 13/20\n",
            "1750/1750 [==============================] - 11s 6ms/step - loss: 0.0045 - accuracy: 0.9987\n",
            "Epoch 14/20\n",
            "1750/1750 [==============================] - 11s 6ms/step - loss: 0.0044 - accuracy: 0.9986\n",
            "Epoch 15/20\n",
            "1750/1750 [==============================] - 10s 6ms/step - loss: 0.0037 - accuracy: 0.9989\n",
            "Epoch 16/20\n",
            "1750/1750 [==============================] - 11s 6ms/step - loss: 0.0036 - accuracy: 0.9990\n",
            "Epoch 17/20\n",
            "1750/1750 [==============================] - 11s 6ms/step - loss: 0.0036 - accuracy: 0.9990\n",
            "Epoch 18/20\n",
            "1750/1750 [==============================] - 10s 6ms/step - loss: 0.0036 - accuracy: 0.9989\n",
            "Epoch 19/20\n",
            "1750/1750 [==============================] - 11s 6ms/step - loss: 0.0039 - accuracy: 0.9988\n",
            "Epoch 20/20\n",
            "1750/1750 [==============================] - 11s 6ms/step - loss: 0.0039 - accuracy: 0.9989\n"
          ]
        },
        {
          "output_type": "execute_result",
          "data": {
            "text/plain": [
              "<keras.callbacks.History at 0x7f9242193950>"
            ]
          },
          "metadata": {},
          "execution_count": 22
        }
      ]
    },
    {
      "cell_type": "code",
      "metadata": {
        "id": "VSxlTeovJkuB"
      },
      "source": [
        "results = model.predict(test_x)\n",
        "\n",
        "# select the index with the maximum probability\n",
        "results = np.argmax(results,axis = 1)\n",
        "\n",
        "results = pd.Series(results,name=\"Label\")"
      ],
      "execution_count": null,
      "outputs": []
    },
    {
      "cell_type": "code",
      "metadata": {
        "id": "eSk1w2G4JpY_"
      },
      "source": [
        "submission = pd.concat([pd.Series(range(1,28001),name = \"ImageId\"),results],axis = 1)\n",
        "\n",
        "submission.to_csv(\"submission1.csv\",index=False)"
      ],
      "execution_count": null,
      "outputs": []
    }
  ]
}